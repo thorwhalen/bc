{
 "cells": [
  {
   "cell_type": "code",
   "execution_count": 1,
   "metadata": {
    "ExecuteTime": {
     "end_time": "2018-09-05T19:21:27.377105Z",
     "start_time": "2018-09-05T19:21:27.351084Z"
    }
   },
   "outputs": [],
   "source": [
    "%load_ext autoreload\n",
    "%autoreload 2\n",
    "\n",
    "from hashlib import sha256"
   ]
  },
  {
   "cell_type": "code",
   "execution_count": null,
   "metadata": {},
   "outputs": [],
   "source": []
  },
  {
   "cell_type": "code",
   "execution_count": 19,
   "metadata": {
    "ExecuteTime": {
     "end_time": "2018-09-05T20:35:32.625353Z",
     "start_time": "2018-09-05T20:35:32.621868Z"
    }
   },
   "outputs": [
    {
     "data": {
      "text/plain": [
       "'asdfkj'"
      ]
     },
     "execution_count": 19,
     "metadata": {},
     "output_type": "execute_result"
    }
   ],
   "source": [
    "p.match('http://asdfkj/').group(1)"
   ]
  },
  {
   "cell_type": "markdown",
   "metadata": {},
   "source": [
    "# Blockchain"
   ]
  },
  {
   "cell_type": "code",
   "execution_count": 24,
   "metadata": {
    "ExecuteTime": {
     "end_time": "2018-09-05T20:36:40.875432Z",
     "start_time": "2018-09-05T20:36:40.871007Z"
    }
   },
   "outputs": [],
   "source": [
    "from blockchain import Blockchain\n",
    "\n",
    "import re\n",
    "\n",
    "p = re.compile('http://([^/]+)')\n",
    "\n",
    "class MockRequests(object):\n",
    "    def __init__(self, blockchain_for_node):\n",
    "        self.blockchain_for_node = blockchain_for_node\n",
    "        \n",
    "    def get(self, url):\n",
    "        node = p.match(url).group(1)\n",
    "        return self.blockchain_for_node[node].chain\n"
   ]
  },
  {
   "cell_type": "markdown",
   "metadata": {},
   "source": [
    "## Have alice, bob, and charlotte make blockchain objects and register their nodes"
   ]
  },
  {
   "cell_type": "code",
   "execution_count": 2,
   "metadata": {
    "ExecuteTime": {
     "end_time": "2018-09-05T20:28:43.289275Z",
     "start_time": "2018-09-05T20:28:43.285565Z"
    }
   },
   "outputs": [],
   "source": [
    "bcs = {\n",
    "    'alice': Blockchain(),\n",
    "    'bob': Blockchain(),\n",
    "    'charlotte': Blockchain()\n",
    "}\n",
    "for node1, bc1 in bcs.items():\n",
    "    for node2, bc2 in bcs.items():\n",
    "        if node1 != node2:\n",
    "            bcs[node1].register_node(node2)"
   ]
  },
  {
   "cell_type": "markdown",
   "metadata": {},
   "source": [
    "See the transactions"
   ]
  },
  {
   "cell_type": "code",
   "execution_count": 3,
   "metadata": {
    "ExecuteTime": {
     "end_time": "2018-09-05T20:28:43.895140Z",
     "start_time": "2018-09-05T20:28:43.885483Z"
    }
   },
   "outputs": [
    {
     "data": {
      "text/plain": [
       "{'alice': {\n",
       "   \"chain_length\": 1,\n",
       "   \"n_current_transactions\": 0,\n",
       "   \"n_nodes\": 2\n",
       " }, 'bob': {\n",
       "   \"chain_length\": 1,\n",
       "   \"n_current_transactions\": 0,\n",
       "   \"n_nodes\": 2\n",
       " }, 'charlotte': {\n",
       "   \"chain_length\": 1,\n",
       "   \"n_current_transactions\": 0,\n",
       "   \"n_nodes\": 2\n",
       " }}"
      ]
     },
     "execution_count": 3,
     "metadata": {},
     "output_type": "execute_result"
    }
   ],
   "source": [
    "bcs"
   ]
  },
  {
   "cell_type": "markdown",
   "metadata": {},
   "source": [
    "See the chains"
   ]
  },
  {
   "cell_type": "code",
   "execution_count": 4,
   "metadata": {
    "ExecuteTime": {
     "end_time": "2018-09-05T20:28:44.198376Z",
     "start_time": "2018-09-05T20:28:44.194373Z"
    }
   },
   "outputs": [
    {
     "name": "stdout",
     "output_type": "stream",
     "text": [
      "alice:\n",
      "[{'index': 1, 'timestamp': 1536179323.287318, 'transactions': [], 'proof': 100, 'previous_hash': 1}]\n",
      "\n",
      "bob:\n",
      "[{'index': 1, 'timestamp': 1536179323.287321, 'transactions': [], 'proof': 100, 'previous_hash': 1}]\n",
      "\n",
      "charlotte:\n",
      "[{'index': 1, 'timestamp': 1536179323.287323, 'transactions': [], 'proof': 100, 'previous_hash': 1}]\n",
      "\n"
     ]
    }
   ],
   "source": [
    "for node, bc in bcs.items():\n",
    "    print(\"{}:\\n{}\\n\".format(node, bc.chain))"
   ]
  },
  {
   "cell_type": "markdown",
   "metadata": {},
   "source": [
    "## Make transactions"
   ]
  },
  {
   "cell_type": "markdown",
   "metadata": {},
   "source": [
    "Have alice give bob 100"
   ]
  },
  {
   "cell_type": "code",
   "execution_count": 11,
   "metadata": {
    "ExecuteTime": {
     "end_time": "2018-09-05T20:29:06.371726Z",
     "start_time": "2018-09-05T20:29:06.366900Z"
    }
   },
   "outputs": [
    {
     "data": {
      "text/plain": [
       "{\n",
       "  \"chain_length\": 2,\n",
       "  \"n_current_transactions\": 1,\n",
       "  \"n_nodes\": 2\n",
       "}"
      ]
     },
     "execution_count": 11,
     "metadata": {},
     "output_type": "execute_result"
    }
   ],
   "source": [
    "bcs['alice'].new_transaction(sender='alice', recipient='bob', amount=100)\n",
    "bcs['alice']"
   ]
  },
  {
   "cell_type": "code",
   "execution_count": 12,
   "metadata": {
    "ExecuteTime": {
     "end_time": "2018-09-05T20:29:06.894031Z",
     "start_time": "2018-09-05T20:29:06.889771Z"
    }
   },
   "outputs": [
    {
     "data": {
      "text/plain": [
       "[{'sender': 'alice', 'recipient': 'bob', 'amount': 100}]"
      ]
     },
     "execution_count": 12,
     "metadata": {},
     "output_type": "execute_result"
    }
   ],
   "source": [
    "bcs['alice'].currentTransactions"
   ]
  },
  {
   "cell_type": "markdown",
   "metadata": {},
   "source": [
    "Have bob give charlotte 50"
   ]
  },
  {
   "cell_type": "code",
   "execution_count": 13,
   "metadata": {
    "ExecuteTime": {
     "end_time": "2018-09-05T20:29:07.598263Z",
     "start_time": "2018-09-05T20:29:07.593380Z"
    }
   },
   "outputs": [
    {
     "data": {
      "text/plain": [
       "{\n",
       "  \"chain_length\": 2,\n",
       "  \"n_current_transactions\": 1,\n",
       "  \"n_nodes\": 2\n",
       "}"
      ]
     },
     "execution_count": 13,
     "metadata": {},
     "output_type": "execute_result"
    }
   ],
   "source": [
    "bcs['bob'].new_transaction(sender='bob', recipient='charlotte', amount=50)\n",
    "bcs['bob']"
   ]
  },
  {
   "cell_type": "markdown",
   "metadata": {},
   "source": [
    "What are the transactions..."
   ]
  },
  {
   "cell_type": "code",
   "execution_count": 14,
   "metadata": {
    "ExecuteTime": {
     "end_time": "2018-09-05T20:29:10.946306Z",
     "start_time": "2018-09-05T20:29:10.942095Z"
    }
   },
   "outputs": [
    {
     "data": {
      "text/plain": [
       "[{'sender': 'bob', 'recipient': 'charlotte', 'amount': 50}]"
      ]
     },
     "execution_count": 14,
     "metadata": {},
     "output_type": "execute_result"
    }
   ],
   "source": [
    "bcs['bob'].currentTransactions"
   ]
  },
  {
   "cell_type": "markdown",
   "metadata": {},
   "source": [
    "## Mine"
   ]
  },
  {
   "cell_type": "code",
   "execution_count": 9,
   "metadata": {
    "ExecuteTime": {
     "end_time": "2018-09-05T20:28:50.551745Z",
     "start_time": "2018-09-05T20:28:48.983932Z"
    }
   },
   "outputs": [
    {
     "data": {
      "text/plain": [
       "{'alice': {'message': 'New block forged',\n",
       "  'index': 2,\n",
       "  'transactions': [{'sender': 'alice', 'recipient': 'bob', 'amount': 100},\n",
       "   {'sender': '0',\n",
       "    'recipient': 'ff64505e6b9b41c1b704a1fedef009b1',\n",
       "    'amount': 1}],\n",
       "  'proof': 363380,\n",
       "  'previous_hash': '7978732c9eb72e670824267bee74eb6344b1be8a4524f78826b344b3feb754e9'},\n",
       " 'bob': {'message': 'New block forged',\n",
       "  'index': 2,\n",
       "  'transactions': [{'sender': 'bob', 'recipient': 'charlotte', 'amount': 50},\n",
       "   {'sender': '0',\n",
       "    'recipient': 'ff64505e6b9b41c1b704a1fedef009b1',\n",
       "    'amount': 1}],\n",
       "  'proof': 85008,\n",
       "  'previous_hash': '0eddde155fac8cc863aaa2cd9a0d67a79c077906e0a334b3c0016d69fcd5ed40'},\n",
       " 'charlotte': {'message': 'New block forged',\n",
       "  'index': 2,\n",
       "  'transactions': [{'sender': '0',\n",
       "    'recipient': 'ff64505e6b9b41c1b704a1fedef009b1',\n",
       "    'amount': 1}],\n",
       "  'proof': 97509,\n",
       "  'previous_hash': 'f46637125a1a869e2ec8b0815c18bc2ae5287aebb9b5a994afc95af14aff63f5'}}"
      ]
     },
     "execution_count": 9,
     "metadata": {},
     "output_type": "execute_result"
    }
   ],
   "source": [
    "blocks = dict()\n",
    "for node, bc in bcs.items():\n",
    "    blocks[node] = bc.mine()\n",
    "blocks"
   ]
  },
  {
   "cell_type": "code",
   "execution_count": 10,
   "metadata": {
    "ExecuteTime": {
     "end_time": "2018-09-05T20:28:54.967173Z",
     "start_time": "2018-09-05T20:28:54.963528Z"
    }
   },
   "outputs": [
    {
     "data": {
      "text/plain": [
       "{'alice': {\n",
       "   \"chain_length\": 2,\n",
       "   \"n_current_transactions\": 0,\n",
       "   \"n_nodes\": 2\n",
       " }, 'bob': {\n",
       "   \"chain_length\": 2,\n",
       "   \"n_current_transactions\": 0,\n",
       "   \"n_nodes\": 2\n",
       " }, 'charlotte': {\n",
       "   \"chain_length\": 2,\n",
       "   \"n_current_transactions\": 0,\n",
       "   \"n_nodes\": 2\n",
       " }}"
      ]
     },
     "execution_count": 10,
     "metadata": {},
     "output_type": "execute_result"
    }
   ],
   "source": [
    "bcs"
   ]
  },
  {
   "cell_type": "code",
   "execution_count": null,
   "metadata": {},
   "outputs": [],
   "source": []
  },
  {
   "cell_type": "code",
   "execution_count": null,
   "metadata": {},
   "outputs": [],
   "source": []
  },
  {
   "cell_type": "code",
   "execution_count": 26,
   "metadata": {
    "ExecuteTime": {
     "end_time": "2018-09-05T20:36:48.063288Z",
     "start_time": "2018-09-05T20:36:48.060410Z"
    }
   },
   "outputs": [],
   "source": [
    "req = MockRequests(bcs)"
   ]
  },
  {
   "cell_type": "code",
   "execution_count": null,
   "metadata": {},
   "outputs": [],
   "source": []
  },
  {
   "cell_type": "code",
   "execution_count": 27,
   "metadata": {
    "ExecuteTime": {
     "end_time": "2018-09-05T20:36:48.479446Z",
     "start_time": "2018-09-05T20:36:48.475226Z"
    }
   },
   "outputs": [
    {
     "data": {
      "text/plain": [
       "[{'index': 1,\n",
       "  'timestamp': 1536179323.287318,\n",
       "  'transactions': [],\n",
       "  'proof': 100,\n",
       "  'previous_hash': 1},\n",
       " {'index': 2,\n",
       "  'timestamp': 1536179330.029762,\n",
       "  'transactions': [{'sender': 'alice', 'recipient': 'bob', 'amount': 100},\n",
       "   {'sender': '0',\n",
       "    'recipient': 'ff64505e6b9b41c1b704a1fedef009b1',\n",
       "    'amount': 1}],\n",
       "  'proof': 363380,\n",
       "  'previous_hash': '7978732c9eb72e670824267bee74eb6344b1be8a4524f78826b344b3feb754e9'}]"
      ]
     },
     "execution_count": 27,
     "metadata": {},
     "output_type": "execute_result"
    }
   ],
   "source": [
    "req.get('http://alice/chain')"
   ]
  },
  {
   "cell_type": "code",
   "execution_count": null,
   "metadata": {},
   "outputs": [],
   "source": []
  },
  {
   "cell_type": "code",
   "execution_count": null,
   "metadata": {},
   "outputs": [],
   "source": [
    "req"
   ]
  },
  {
   "cell_type": "code",
   "execution_count": null,
   "metadata": {},
   "outputs": [],
   "source": []
  },
  {
   "cell_type": "code",
   "execution_count": null,
   "metadata": {},
   "outputs": [],
   "source": []
  },
  {
   "cell_type": "code",
   "execution_count": null,
   "metadata": {},
   "outputs": [],
   "source": []
  },
  {
   "cell_type": "code",
   "execution_count": null,
   "metadata": {},
   "outputs": [],
   "source": []
  },
  {
   "cell_type": "code",
   "execution_count": null,
   "metadata": {},
   "outputs": [],
   "source": []
  },
  {
   "cell_type": "code",
   "execution_count": null,
   "metadata": {},
   "outputs": [],
   "source": []
  },
  {
   "cell_type": "code",
   "execution_count": null,
   "metadata": {},
   "outputs": [],
   "source": []
  }
 ],
 "metadata": {
  "kernelspec": {
   "display_name": "p3",
   "language": "python",
   "name": "p3"
  },
  "language_info": {
   "codemirror_mode": {
    "name": "ipython",
    "version": 3
   },
   "file_extension": ".py",
   "mimetype": "text/x-python",
   "name": "python",
   "nbconvert_exporter": "python",
   "pygments_lexer": "ipython3",
   "version": "3.7.0"
  },
  "latex_envs": {
   "bibliofile": "biblio.bib",
   "cite_by": "apalike",
   "current_citInitial": 1,
   "eqLabelWithNumbers": true,
   "eqNumInitial": 0
  },
  "toc": {
   "colors": {
    "hover_highlight": "#DAA520",
    "running_highlight": "#FF0000",
    "selected_highlight": "#FFD700"
   },
   "moveMenuLeft": true,
   "nav_menu": {
    "height": "12px",
    "width": "252px"
   },
   "navigate_menu": true,
   "number_sections": true,
   "sideBar": true,
   "threshold": 4,
   "toc_cell": false,
   "toc_section_display": "block",
   "toc_window_display": false
  }
 },
 "nbformat": 4,
 "nbformat_minor": 2
}
